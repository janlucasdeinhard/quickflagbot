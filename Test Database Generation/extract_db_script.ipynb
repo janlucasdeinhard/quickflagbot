{
 "cells": [
  {
   "cell_type": "code",
   "execution_count": 3,
   "id": "165e947e",
   "metadata": {},
   "outputs": [],
   "source": [
    "import sqlite3"
   ]
  },
  {
   "cell_type": "code",
   "execution_count": 4,
   "id": "327f2e59",
   "metadata": {},
   "outputs": [],
   "source": [
    "conn = sqlite3.connect('../sample_crm.db')\n",
    "cursor = conn.cursor()"
   ]
  },
  {
   "cell_type": "code",
   "execution_count": 5,
   "id": "1b5e4c16",
   "metadata": {},
   "outputs": [],
   "source": [
    "# Get all table names\n",
    "cursor.execute(\"SELECT name FROM sqlite_master WHERE type='table';\")\n",
    "tables = [row[0] for row in cursor.fetchall()]"
   ]
  },
  {
   "cell_type": "code",
   "execution_count": 6,
   "id": "3213e602",
   "metadata": {},
   "outputs": [],
   "source": [
    "db_schema = ''\n",
    "\n",
    "# Print schema for each table\n",
    "for table in tables:\n",
    "    db_schema += f\"\\n-- Schema for table: {table}\\n\"\n",
    "    cursor.execute(f\"SELECT sql FROM sqlite_master WHERE type='table' AND name='{table}';\")\n",
    "    db_schema += cursor.fetchone()[0]\n",
    "    db_schema += ';\\n'"
   ]
  },
  {
   "cell_type": "code",
   "execution_count": 7,
   "id": "d4fa2895",
   "metadata": {},
   "outputs": [],
   "source": [
    "conn.close()"
   ]
  },
  {
   "cell_type": "code",
   "execution_count": 9,
   "id": "73d5b979",
   "metadata": {},
   "outputs": [],
   "source": [
    "with open('../db_description.txt', 'w') as f:\n",
    "    f.write(db_schema)"
   ]
  },
  {
   "cell_type": "code",
   "execution_count": null,
   "id": "62be39fe",
   "metadata": {},
   "outputs": [],
   "source": []
  }
 ],
 "metadata": {
  "kernelspec": {
   "display_name": ".venv (3.9.6)",
   "language": "python",
   "name": "python3"
  },
  "language_info": {
   "codemirror_mode": {
    "name": "ipython",
    "version": 3
   },
   "file_extension": ".py",
   "mimetype": "text/x-python",
   "name": "python",
   "nbconvert_exporter": "python",
   "pygments_lexer": "ipython3",
   "version": "3.9.6"
  }
 },
 "nbformat": 4,
 "nbformat_minor": 5
}
