{
 "cells": [
  {
   "cell_type": "code",
   "execution_count": 1,
   "id": "fa5bc7cc",
   "metadata": {},
   "outputs": [],
   "source": [
    "import sqlite3"
   ]
  },
  {
   "cell_type": "code",
   "execution_count": 2,
   "id": "fcb142ed",
   "metadata": {},
   "outputs": [],
   "source": [
    "# Connect to a new SQLite database file\n",
    "conn = sqlite3.connect('../sample_crm.db')\n",
    "cur = conn.cursor()"
   ]
  },
  {
   "cell_type": "code",
   "execution_count": 3,
   "id": "5813d570",
   "metadata": {},
   "outputs": [
    {
     "data": {
      "text/plain": [
       "<sqlite3.Cursor at 0x106eb58f0>"
      ]
     },
     "execution_count": 3,
     "metadata": {},
     "output_type": "execute_result"
    }
   ],
   "source": [
    "# Enable foreign key support\n",
    "cur.execute(\"PRAGMA foreign_keys = ON;\")"
   ]
  },
  {
   "cell_type": "code",
   "execution_count": 4,
   "id": "cd3d016b",
   "metadata": {},
   "outputs": [
    {
     "data": {
      "text/plain": [
       "<sqlite3.Cursor at 0x106eb58f0>"
      ]
     },
     "execution_count": 4,
     "metadata": {},
     "output_type": "execute_result"
    }
   ],
   "source": [
    "# Drop existing tables (for repeatable runs)\n",
    "cur.executescript(\"\"\"\n",
    "DROP TABLE IF EXISTS transactions;\n",
    "DROP TABLE IF EXISTS opportunities;\n",
    "DROP TABLE IF EXISTS accounts;\n",
    "\"\"\")"
   ]
  },
  {
   "cell_type": "code",
   "execution_count": 5,
   "id": "f329610c",
   "metadata": {},
   "outputs": [
    {
     "data": {
      "text/plain": [
       "<sqlite3.Cursor at 0x106eb58f0>"
      ]
     },
     "execution_count": 5,
     "metadata": {},
     "output_type": "execute_result"
    }
   ],
   "source": [
    "# Create tables\n",
    "cur.executescript(\"\"\"\n",
    "CREATE TABLE accounts (\n",
    "    account_id INTEGER PRIMARY KEY,\n",
    "    account_name TEXT NOT NULL,\n",
    "    industry TEXT,\n",
    "    region TEXT,\n",
    "    created_at TEXT DEFAULT CURRENT_TIMESTAMP\n",
    ");\n",
    "\n",
    "CREATE TABLE opportunities (\n",
    "    opportunity_id INTEGER PRIMARY KEY,\n",
    "    account_id INTEGER NOT NULL,\n",
    "    funnel_value REAL NOT NULL,\n",
    "    stage TEXT,\n",
    "    owner TEXT,\n",
    "    created_at TEXT DEFAULT CURRENT_TIMESTAMP,\n",
    "    expected_close TEXT,\n",
    "    FOREIGN KEY (account_id) REFERENCES accounts(account_id)\n",
    ");\n",
    "\n",
    "CREATE TABLE transactions (\n",
    "    account_id INTEGER NOT NULL,\n",
    "    opportunity_id INTEGER,\n",
    "    booking_date TEXT NOT NULL,\n",
    "    amount REAL NOT NULL,\n",
    "    currency TEXT,\n",
    "    channel TEXT,\n",
    "    product TEXT,\n",
    "    region TEXT,\n",
    "    FOREIGN KEY (account_id) REFERENCES accounts(account_id),\n",
    "    FOREIGN KEY (opportunity_id) REFERENCES opportunities(opportunity_id)\n",
    ");\n",
    "\"\"\")"
   ]
  },
  {
   "cell_type": "code",
   "execution_count": 6,
   "id": "f9fe3475",
   "metadata": {},
   "outputs": [
    {
     "data": {
      "text/plain": [
       "<sqlite3.Cursor at 0x106eb58f0>"
      ]
     },
     "execution_count": 6,
     "metadata": {},
     "output_type": "execute_result"
    }
   ],
   "source": [
    "# Insert data into accounts\n",
    "accounts = [\n",
    "    (1, 'Acme Corp', 'Manufacturing', 'North America'),\n",
    "    (2, 'Beta Ltd', 'Healthcare', 'Europe'),\n",
    "    (3, 'Gamma GmbH', 'Technology', 'Europe'),\n",
    "    (4, 'Delta Inc', 'Finance', 'North America')\n",
    "]\n",
    "cur.executemany(\"INSERT INTO accounts (account_id, account_name, industry, region) VALUES (?, ?, ?, ?);\", accounts)\n",
    "\n",
    "# Insert data into opportunities\n",
    "opportunities = [\n",
    "    (101, 1, 25000.0, 'Proposal', 'Alice', '2025-08-15'),\n",
    "    (102, 1, 50000.0, 'Negotiation', 'Bob', '2025-09-01'),\n",
    "    (103, 2, 15000.0, 'Qualified', 'Charlie', '2025-08-30'),\n",
    "    (104, 3, 70000.0, 'Closed Won', 'Diana', '2025-07-01')\n",
    "]\n",
    "cur.executemany(\"\"\"\n",
    "INSERT INTO opportunities (opportunity_id, account_id, funnel_value, stage, owner, expected_close)\n",
    "VALUES (?, ?, ?, ?, ?, ?);\n",
    "\"\"\", opportunities)\n",
    "\n",
    "# Insert data into transactions\n",
    "transactions = [\n",
    "    (1, 101, '2025-07-15', 1000.0, 'USD', 'Online', 'Subscription', 'North America'),\n",
    "    (1, 101, '2025-07-20', 2000.0, 'USD', 'Partner', 'One-time', 'North America'),\n",
    "    (1, None, '2025-07-25', 300.0, 'USD', 'Online', 'Add-on', 'North America'),\n",
    "    (2, 103, '2025-07-18', 800.0, 'EUR', 'Online', 'Consulting', 'Europe'),\n",
    "    (2, None, '2025-07-22', 1200.0, 'EUR', 'Reseller', 'Hardware', 'Europe'),\n",
    "    (3, 104, '2025-07-01', 5000.0, 'EUR', 'Direct', 'Software', 'Europe'),\n",
    "    (3, 104, '2025-07-05', 2000.0, 'EUR', 'Direct', 'Maintenance', 'Europe'),\n",
    "    (4, None, '2025-07-10', 1500.0, 'USD', 'Online', 'Advisory', 'North America')\n",
    "]\n",
    "cur.executemany(\"\"\"\n",
    "INSERT INTO transactions (account_id, opportunity_id, booking_date, amount, currency, channel, product, region)\n",
    "VALUES (?, ?, ?, ?, ?, ?, ?, ?);\n",
    "\"\"\", transactions)"
   ]
  },
  {
   "cell_type": "code",
   "execution_count": 7,
   "id": "43614bde",
   "metadata": {},
   "outputs": [],
   "source": [
    "# Commit and close connection\n",
    "conn.commit()\n",
    "conn.close()"
   ]
  },
  {
   "cell_type": "code",
   "execution_count": null,
   "id": "6746081a",
   "metadata": {},
   "outputs": [],
   "source": []
  }
 ],
 "metadata": {
  "kernelspec": {
   "display_name": ".venv (3.9.6)",
   "language": "python",
   "name": "python3"
  },
  "language_info": {
   "codemirror_mode": {
    "name": "ipython",
    "version": 3
   },
   "file_extension": ".py",
   "mimetype": "text/x-python",
   "name": "python",
   "nbconvert_exporter": "python",
   "pygments_lexer": "ipython3",
   "version": "3.9.6"
  }
 },
 "nbformat": 4,
 "nbformat_minor": 5
}
