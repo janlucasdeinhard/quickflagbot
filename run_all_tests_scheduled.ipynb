{
 "cells": [
  {
   "cell_type": "code",
   "execution_count": 1,
   "id": "b646924f",
   "metadata": {},
   "outputs": [],
   "source": [
    "import sqlite3\n",
    "import os\n",
    "import pandas as pd\n",
    "import datetime\n",
    "\n",
    "db_path = \"sample_crm.db\"\n",
    "tests_folder = \"tests/generated\""
   ]
  },
  {
   "cell_type": "code",
   "execution_count": 2,
   "id": "27b7edf4",
   "metadata": {},
   "outputs": [],
   "source": [
    "# Connect to database\n",
    "\n",
    "conn = sqlite3.connect(db_path)\n",
    "cursor = conn.cursor()"
   ]
  },
  {
   "cell_type": "code",
   "execution_count": 9,
   "id": "a976cead",
   "metadata": {},
   "outputs": [],
   "source": [
    "# Fetcn all SQL queries from tests folder into a dictionary\n",
    "\n",
    "sql_dict = {}\n",
    "\n",
    "for filename in os.listdir(tests_folder):\n",
    "    if filename.endswith(\".sql\"):\n",
    "        with open(os.path.join(tests_folder, filename), \"r\") as f:\n",
    "            sql = f.read()\n",
    "        sql_dict[filename.replace('.sql','')] = sql"
   ]
  },
  {
   "cell_type": "code",
   "execution_count": 11,
   "id": "48b68a82",
   "metadata": {},
   "outputs": [],
   "source": [
    "# Evaluate all SQL queries and store results in a dictionary of DataFrames\n",
    "\n",
    "sql_res_dict = {}\n",
    "\n",
    "for sql_query_id in sql_dict.keys():\n",
    "    cursor.execute(sql_dict[sql_query_id])\n",
    "    columns = [desc[0] for desc in cursor.description]\n",
    "    results = cursor.fetchall()\n",
    "    df = pd.DataFrame(results, columns=columns)\n",
    "    sql_res_dict[sql_query_id] = df"
   ]
  },
  {
   "cell_type": "code",
   "execution_count": 30,
   "id": "5c685ca5",
   "metadata": {},
   "outputs": [
    {
     "name": "stderr",
     "output_type": "stream",
     "text": [
      "/var/folders/g5/plb6b31j5t50y8v4z534x84h0000gn/T/ipykernel_2447/1631032208.py:13: FutureWarning: The behavior of DataFrame concatenation with empty or all-NA entries is deprecated. In a future version, this will no longer exclude empty or all-NA columns when determining the result dtypes. To retain the old behavior, exclude the relevant entries before the concat operation.\n",
      "  rf = pd.concat([rf, df], ignore_index=True)\n"
     ]
    }
   ],
   "source": [
    "# Aggregate the evaluation results and attach timestamp and name of test \n",
    "\n",
    "rf = pd.DataFrame(columns=['sql_query_id','timestamp','test_result','count'])\n",
    "\n",
    "for sql_query_id in sql_res_dict.keys():\n",
    "    df = sql_res_dict[sql_query_id]\n",
    "    df = pd.DataFrame(['PASS','FAIL'],columns=['test_result']).merge(\n",
    "        df.groupby(['test_result']).size().reset_index(name='count'),\n",
    "        on='test_result',\n",
    "        how='left'\n",
    "    ).fillna(0).assign(timestamp=datetime.datetime.now().isoformat()).assign(sql_query_id=sql_query_id)\n",
    "    df = df[['sql_query_id','timestamp','test_result','count']]\n",
    "    rf = pd.concat([rf, df], ignore_index=True)"
   ]
  },
  {
   "cell_type": "code",
   "execution_count": null,
   "id": "25c58896",
   "metadata": {},
   "outputs": [],
   "source": [
    "table_name = 'test_results_aggregated'\n",
    "\n",
    "cursor.execute(f\"SELECT name FROM sqlite_master WHERE type='table' AND name='{table_name}'\")\n",
    "exists = cursor.fetchone() is not None\n",
    "\n",
    "if exists:\n",
    "    rf.to_sql(table_name, conn, if_exists='append', index=False)\n",
    "else:\n",
    "    rf.to_sql(table_name, conn, if_exists='replace', index=False)"
   ]
  }
 ],
 "metadata": {
  "kernelspec": {
   "display_name": ".venv (3.9.6)",
   "language": "python",
   "name": "python3"
  },
  "language_info": {
   "codemirror_mode": {
    "name": "ipython",
    "version": 3
   },
   "file_extension": ".py",
   "mimetype": "text/x-python",
   "name": "python",
   "nbconvert_exporter": "python",
   "pygments_lexer": "ipython3",
   "version": "3.9.6"
  }
 },
 "nbformat": 4,
 "nbformat_minor": 5
}
