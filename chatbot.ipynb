{
 "cells": [
  {
   "cell_type": "code",
   "execution_count": 1,
   "id": "202f3482",
   "metadata": {},
   "outputs": [],
   "source": [
    "# Import required libraries\n",
    "from openai import OpenAI\n",
    "from dotenv import load_dotenv\n",
    "from datetime import datetime\n",
    "import sqlglot\n",
    "from sqlglot.errors import ParseError\n",
    "import os\n",
    "import re"
   ]
  },
  {
   "cell_type": "code",
   "execution_count": 2,
   "id": "ccf2ce59",
   "metadata": {},
   "outputs": [
    {
     "name": "stdout",
     "output_type": "stream",
     "text": [
      "✅ Configuration loaded successfully\n",
      "Model: gpt-4\n",
      "Test folder: tests/generated/\n"
     ]
    }
   ],
   "source": [
    "# Load environment variables and configure settings\n",
    "load_dotenv()\n",
    "\n",
    "# Configuration\n",
    "api_key = os.getenv(\"OPENAI_API_KEY\")\n",
    "test_folder_path = os.getenv(\"TEST_FOLDER_PATH\")\n",
    "model = \"gpt-4\"\n",
    "temperature = 0.2\n",
    "\n",
    "# Initialize OpenAI client\n",
    "client = OpenAI(api_key=api_key)\n",
    "\n",
    "print(\"✅ Configuration loaded successfully\")\n",
    "print(f\"Model: {model}\")\n",
    "print(f\"Test folder: {test_folder_path}\")"
   ]
  },
  {
   "cell_type": "code",
   "execution_count": 3,
   "id": "d10bf62b",
   "metadata": {},
   "outputs": [
    {
     "name": "stdout",
     "output_type": "stream",
     "text": [
      "✅ Loaded db_description.txt\n",
      "✅ Loaded chatbot_guidelines.txt\n"
     ]
    }
   ],
   "source": [
    "# Utility function to load context files\n",
    "def load_file(filename):\n",
    "    \"\"\"Load content from a file.\"\"\"\n",
    "    try:\n",
    "        with open(filename, \"r\") as f:\n",
    "            content = f.read()\n",
    "            print(f\"✅ Loaded {filename}\")\n",
    "            return content\n",
    "    except FileNotFoundError:\n",
    "        print(f\"⚠️ Warning: {filename} not found. Using empty content.\")\n",
    "        return \"\"\n",
    "\n",
    "# Load database context and guidelines\n",
    "db_context = load_file(\"db_description.txt\")\n",
    "guidelines = load_file(\"chatbot_guidelines.txt\")\n",
    "\n",
    "extract_command = '''\n",
    "    Please take the following chat history which is ordered by time of occurrence and extract the SQL test command which you think\n",
    "    the user most likely want to deploy. Return only this SQL in plain text without any surrounding text. The chat history is as follows: {0}\n",
    "'''"
   ]
  },
  {
   "cell_type": "code",
   "execution_count": 4,
   "id": "183cbaf0",
   "metadata": {},
   "outputs": [
    {
     "name": "stdout",
     "output_type": "stream",
     "text": [
      "✅ Conversation initialized\n",
      "System prompt configured with 231 characters of DB context\n",
      "Guidelines configured with 308 characters\n"
     ]
    }
   ],
   "source": [
    "# Initialize conversation history with system prompt\n",
    "messages = [\n",
    "    {\n",
    "        \"role\": \"system\",\n",
    "        \"content\": f\"\"\"\n",
    "You are a helpful assistant that writes SQL data quality test queries.\n",
    "\n",
    "Use this database context for your answers:\n",
    "---\n",
    "{db_context}\n",
    "---\n",
    "In case the user suggests that he wants to deploy the test or save the test, inform him that he needs to type 'save test' to save the test to the database.\n",
    "\n",
    "Also use these guidelines:\n",
    "---\n",
    "{guidelines}\n",
    "---\n",
    "\"\"\",\n",
    "    }\n",
    "]\n",
    "\n",
    "# Variable to store the last assistant reply for saving tests\n",
    "last_assistant_reply = \"\"\n",
    "\n",
    "print(\"✅ Conversation initialized\")\n",
    "print(f\"System prompt configured with {len(db_context)} characters of DB context\")\n",
    "print(f\"Guidelines configured with {len(guidelines)} characters\")"
   ]
  },
  {
   "cell_type": "code",
   "execution_count": 5,
   "id": "0b1edd7d",
   "metadata": {},
   "outputs": [
    {
     "name": "stdout",
     "output_type": "stream",
     "text": [
      "✅ Helper functions defined\n"
     ]
    }
   ],
   "source": [
    "# Helper functions for SQL extraction and file operations\n",
    "\n",
    "def extract_sql_from_response(text):\n",
    "    \"\"\"Extract SQL code from a GPT response.\"\"\"\n",
    "    match = re.search(r\"```sql(.*?)```\", text, re.DOTALL)\n",
    "    if match:\n",
    "        return match.group(1).strip()\n",
    "    return text.strip()  # fallback\n",
    "\n",
    "def save_test_to_file(test_sql, description):\n",
    "    \"\"\"Save a SQL test to a file with timestamp.\"\"\"\n",
    "    if not test_folder_path:\n",
    "        raise ValueError(\"TEST_FOLDER_PATH not configured\")\n",
    "    \n",
    "    # Create directory if it doesn't exist\n",
    "    os.makedirs(test_folder_path, exist_ok=True)\n",
    "    \n",
    "    # Create a safe filename\n",
    "    slug = re.sub(r\"\\W+\", \"_\", description.lower())[:50]\n",
    "    filename = f\"{datetime.now().strftime('%Y%m%d_%H%M%S')}_{slug}.sql\"\n",
    "    filepath = os.path.join(test_folder_path, filename)\n",
    "\n",
    "    with open(filepath, \"w\") as f:\n",
    "        f.write(f\"-- Test: {description}\\n\\n{test_sql.strip()}\\n\")\n",
    "\n",
    "    print(f\"✅ Test saved to {filepath}\")\n",
    "    return filepath\n",
    "\n",
    "print(\"✅ Helper functions defined\")"
   ]
  },
  {
   "cell_type": "code",
   "execution_count": 6,
   "id": "e2534d11",
   "metadata": {},
   "outputs": [
    {
     "name": "stdout",
     "output_type": "stream",
     "text": [
      "✅ Main send_message function defined\n"
     ]
    }
   ],
   "source": [
    "# Main function to send messages to the chatbot\n",
    "def send_message(user_input):\n",
    "    \"\"\"\n",
    "    Send a message to the chatbot and get a response.\n",
    "    \n",
    "    Args:\n",
    "        user_input: The user's message\n",
    "        \n",
    "    Returns:\n",
    "        The assistant's response\n",
    "    \"\"\"\n",
    "    global messages, last_assistant_reply\n",
    "    \n",
    "    # Handle save test command\n",
    "    if user_input.lower() == \"save test\":\n",
    "        sql_candidate = send_message(extract_command.format(messages))\n",
    "        try: \n",
    "            parsed = sqlglot.parse_one(sql_candidate)\n",
    "            filepath = save_test_to_file(sql_candidate, \"save test\")\n",
    "            return f\"Test saved to {filepath}\"\n",
    "        except ParseError as e:\n",
    "            return \"No previous test to save. Please generate a test first.\"\n",
    "    \n",
    "    # Add user message to history\n",
    "    messages.append({\"role\": \"user\", \"content\": user_input})\n",
    "\n",
    "    # Get response from OpenAI\n",
    "    response = client.chat.completions.create(\n",
    "        model=model,\n",
    "        messages=messages,\n",
    "        temperature=temperature,\n",
    "    )\n",
    "\n",
    "    # Extract reply\n",
    "    assistant_reply = response.choices[0].message.content\n",
    "    last_assistant_reply = assistant_reply\n",
    "\n",
    "    # Add assistant response to history\n",
    "    messages.append({\"role\": \"assistant\", \"content\": assistant_reply})\n",
    "    \n",
    "    return assistant_reply\n",
    "\n",
    "print(\"✅ Main send_message function defined\")"
   ]
  },
  {
   "cell_type": "code",
   "execution_count": null,
   "id": "219d8c1c",
   "metadata": {},
   "outputs": [],
   "source": []
  }
 ],
 "metadata": {
  "kernelspec": {
   "display_name": "Python 3",
   "language": "python",
   "name": "python3"
  },
  "language_info": {
   "codemirror_mode": {
    "name": "ipython",
    "version": 3
   },
   "file_extension": ".py",
   "mimetype": "text/x-python",
   "name": "python",
   "nbconvert_exporter": "python",
   "pygments_lexer": "ipython3",
   "version": "3.11.8"
  }
 },
 "nbformat": 4,
 "nbformat_minor": 5
}
